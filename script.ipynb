{
  "nbformat": 4,
  "nbformat_minor": 0,
  "metadata": {
    "colab": {
      "provenance": [],
      "gpuType": "T4",
      "authorship_tag": "ABX9TyP7CHpwxyhm4UwPbBMP5V0C",
      "include_colab_link": true
    },
    "kernelspec": {
      "name": "python3",
      "display_name": "Python 3"
    },
    "language_info": {
      "name": "python"
    },
    "accelerator": "GPU"
  },
  "cells": [
    {
      "cell_type": "markdown",
      "metadata": {
        "id": "view-in-github",
        "colab_type": "text"
      },
      "source": [
        "<a href=\"https://colab.research.google.com/github/Dxmoore/Forest-Cover-Classification-with-Deep-Learning/blob/main/script.ipynb\" target=\"_parent\"><img src=\"https://colab.research.google.com/assets/colab-badge.svg\" alt=\"Open In Colab\"/></a>"
      ]
    },
    {
      "cell_type": "code",
      "execution_count": 19,
      "metadata": {
        "id": "6g_CuQp3qW8f",
        "colab": {
          "base_uri": "https://localhost:8080/"
        },
        "outputId": "03e9b205-61d5-48f6-8c8c-9c82644916c3"
      },
      "outputs": [
        {
          "output_type": "stream",
          "name": "stdout",
          "text": [
            "<class 'pandas.core.frame.DataFrame'>\n",
            "RangeIndex: 251506 entries, 0 to 251505\n",
            "Data columns (total 55 columns):\n",
            " #   Column                              Non-Null Count   Dtype  \n",
            "---  ------                              --------------   -----  \n",
            " 0   Elevation                           251506 non-null  int64  \n",
            " 1   Aspect                              251506 non-null  int64  \n",
            " 2   Slope                               251506 non-null  int64  \n",
            " 3   Horizontal_Distance_To_Hydrology    251506 non-null  int64  \n",
            " 4   Vertical_Distance_To_Hydrology      251506 non-null  int64  \n",
            " 5   Horizontal_Distance_To_Roadways     251506 non-null  int64  \n",
            " 6   Hillshade_9am                       251506 non-null  int64  \n",
            " 7   Hillshade_Noon                      251506 non-null  int64  \n",
            " 8   Hillshade_3pm                       251506 non-null  int64  \n",
            " 9   Horizontal_Distance_To_Fire_Points  251506 non-null  int64  \n",
            " 10  Wilderness_Area1                    251506 non-null  int64  \n",
            " 11  Wilderness_Area2                    251506 non-null  int64  \n",
            " 12  Wilderness_Area3                    251506 non-null  int64  \n",
            " 13  Wilderness_Area4                    251506 non-null  int64  \n",
            " 14  Soil_Type1                          251506 non-null  int64  \n",
            " 15  Soil_Type2                          251506 non-null  int64  \n",
            " 16  Soil_Type3                          251506 non-null  int64  \n",
            " 17  Soil_Type4                          251506 non-null  int64  \n",
            " 18  Soil_Type5                          251506 non-null  int64  \n",
            " 19  Soil_Type6                          251506 non-null  int64  \n",
            " 20  Soil_Type7                          251505 non-null  float64\n",
            " 21  Soil_Type8                          251505 non-null  float64\n",
            " 22  Soil_Type9                          251505 non-null  float64\n",
            " 23  Soil_Type10                         251505 non-null  float64\n",
            " 24  Soil_Type11                         251505 non-null  float64\n",
            " 25  Soil_Type12                         251505 non-null  float64\n",
            " 26  Soil_Type13                         251505 non-null  float64\n",
            " 27  Soil_Type14                         251505 non-null  float64\n",
            " 28  Soil_Type15                         251505 non-null  float64\n",
            " 29  Soil_Type16                         251505 non-null  float64\n",
            " 30  Soil_Type17                         251505 non-null  float64\n",
            " 31  Soil_Type18                         251505 non-null  float64\n",
            " 32  Soil_Type19                         251505 non-null  float64\n",
            " 33  Soil_Type20                         251505 non-null  float64\n",
            " 34  Soil_Type21                         251505 non-null  float64\n",
            " 35  Soil_Type22                         251505 non-null  float64\n",
            " 36  Soil_Type23                         251505 non-null  float64\n",
            " 37  Soil_Type24                         251505 non-null  float64\n",
            " 38  Soil_Type25                         251505 non-null  float64\n",
            " 39  Soil_Type26                         251505 non-null  float64\n",
            " 40  Soil_Type27                         251505 non-null  float64\n",
            " 41  Soil_Type28                         251505 non-null  float64\n",
            " 42  Soil_Type29                         251505 non-null  float64\n",
            " 43  Soil_Type30                         251505 non-null  float64\n",
            " 44  Soil_Type31                         251505 non-null  float64\n",
            " 45  Soil_Type32                         251505 non-null  float64\n",
            " 46  Soil_Type33                         251505 non-null  float64\n",
            " 47  Soil_Type34                         251505 non-null  float64\n",
            " 48  Soil_Type35                         251505 non-null  float64\n",
            " 49  Soil_Type36                         251505 non-null  float64\n",
            " 50  Soil_Type37                         251505 non-null  float64\n",
            " 51  Soil_Type38                         251505 non-null  float64\n",
            " 52  Soil_Type39                         251505 non-null  float64\n",
            " 53  Soil_Type40                         251505 non-null  float64\n",
            " 54  class                               251505 non-null  float64\n",
            "dtypes: float64(35), int64(20)\n",
            "memory usage: 105.5 MB\n",
            "Number of NaN values in 'class' column: 1\n",
            "Classes and number of values in the dataset Counter({2.0: 156655, 1.0: 72128, 3.0: 6311, 5.0: 5568, 6.0: 4987, 7.0: 3673, 4.0: 2183})\n"
          ]
        }
      ],
      "source": [
        "import pandas as pd\n",
        "from sklearn.preprocessing import StandardScaler, LabelEncoder\n",
        "from sklearn.model_selection import train_test_split\n",
        "from collections import Counter\n",
        "from sklearn.compose import ColumnTransformer\n",
        "from tensorflow.keras.models import Sequential\n",
        "from tensorflow.keras.layers import Dense, InputLayer\n",
        "from sklearn.metrics import classification_report\n",
        "from tensorflow.keras.utils import to_categorical\n",
        "from tensorflow.keras.callbacks import EarlyStopping\n",
        "import numpy as np\n",
        "\n",
        "\n",
        "###Loading Data###\n",
        "\n",
        "#import data\n",
        "data = pd.read_csv('cover_data.csv')\n",
        "\n",
        "#view data columns and types\n",
        "data.info()\n",
        "\n",
        "# Check for NaN values in the 'class' column-- found one row with nan value \n",
        "nan_values = data['class'].isna().sum()\n",
        "\n",
        "# Print the number of NaN values\n",
        "print(\"Number of NaN values in 'class' column:\", nan_values)\n",
        "\n",
        "# Drop rows with NaN values in the 'class' column\n",
        "data = data.dropna(subset=['class'])\n",
        "\n",
        "#view distribution of the target column 'death event'\n",
        "print('Classes and number of values in the dataset', Counter(data['class'])) \n",
        "\n",
        "#create variable for label and features column\n",
        "y = data['class']\n",
        "x = data.drop(['class'], axis = 1)\n",
        "\n",
        "\n"
      ]
    },
    {
      "cell_type": "markdown",
      "source": [
        "The dataset contains a great imbalance in classifications, leaning heavily towards classes 1 and 2 (Spruce/Fir\n",
        "Lodgepole Pine). "
      ],
      "metadata": {
        "id": "niXKr61gjpZU"
      }
    },
    {
      "cell_type": "code",
      "source": [
        "###Data Preprocessing###\n",
        "\n",
        "\n",
        "#split the data\n",
        "X_train, X_test, Y_train, Y_test = train_test_split(x, y, test_size = 0.2, random_state = 40)\n",
        "\n",
        "\n",
        "#scale the numeric training and test feature values\n",
        "numerical_columns = data.select_dtypes(include=['int64']).columns\n",
        "ct = ColumnTransformer([(\"only numeric\", StandardScaler(), x.columns)], remainder='passthrough')#used x.columns since all data is in int64\n",
        "X_train_scaled = ct.fit_transform(X_train)\n",
        "X_test_scaled = ct.transform(X_test)\n",
        "\n",
        "\n",
        "\n",
        "\n",
        "\n"
      ],
      "metadata": {
        "id": "Ibh7cz4ViAYT"
      },
      "execution_count": 20,
      "outputs": []
    },
    {
      "cell_type": "code",
      "source": [
        "###Create Model###\n",
        "\n",
        "# Determine the number of classes\n",
        "num_classes = len(np.unique(y))\n",
        "\n",
        "# Subtract 1 from class labels -> class lables must be zero indexed to use with sparse categorical crossentrophy\n",
        "Y_train -= 1\n",
        "\n",
        "\n",
        "# Define the early stopping callback\n",
        "early_stopping = EarlyStopping(monitor='loss', patience=10, verbose=1)\n",
        "\n",
        "#create model instance with input, hidden and output layers \n",
        "model = Sequential()\n",
        "model.add(InputLayer(input_shape=(X_train_scaled.shape[1],))) #input\n",
        "model.add(Dense(12, activation='relu')) #hidden\n",
        "model.add(Dense(num_classes, activation='softmax')) #output\n",
        "# Use sparse categorical cross-entropy as the loss function\n",
        "model.compile(loss='sparse_categorical_crossentropy', optimizer='adam', metrics=['accuracy']) #compile model\n",
        "model.fit(X_train_scaled, Y_train, epochs=100, batch_size=32, callbacks = [early_stopping]) # fit model\n",
        "loss, acc = model.evaluate(X_test_scaled, Y_test)\n",
        "\n",
        "\n",
        "\n"
      ],
      "metadata": {
        "colab": {
          "base_uri": "https://localhost:8080/"
        },
        "id": "xYFK6ominflQ",
        "outputId": "80249893-9343-42dd-a2b4-72bcd90f6452"
      },
      "execution_count": null,
      "outputs": [
        {
          "output_type": "stream",
          "name": "stdout",
          "text": [
            "Epoch 1/100\n",
            "6288/6288 [==============================] - 21s 3ms/step - loss: 0.6152 - accuracy: 0.7517\n",
            "Epoch 2/100\n",
            "6288/6288 [==============================] - 23s 4ms/step - loss: 0.5146 - accuracy: 0.7796\n",
            "Epoch 3/100\n",
            "6288/6288 [==============================] - 20s 3ms/step - loss: 0.5003 - accuracy: 0.7849\n",
            "Epoch 4/100\n",
            "6288/6288 [==============================] - 18s 3ms/step - loss: 0.4922 - accuracy: 0.7899\n",
            "Epoch 5/100\n",
            "6288/6288 [==============================] - 18s 3ms/step - loss: 0.4871 - accuracy: 0.7932\n",
            "Epoch 6/100\n",
            "6288/6288 [==============================] - 18s 3ms/step - loss: 0.4830 - accuracy: 0.7948\n",
            "Epoch 7/100\n",
            "6288/6288 [==============================] - 18s 3ms/step - loss: 0.4804 - accuracy: 0.7964\n",
            "Epoch 8/100\n",
            "6288/6288 [==============================] - 22s 3ms/step - loss: 0.4776 - accuracy: 0.7983\n",
            "Epoch 9/100\n",
            "6288/6288 [==============================] - 17s 3ms/step - loss: 0.4752 - accuracy: 0.7990\n",
            "Epoch 10/100\n",
            "6288/6288 [==============================] - 18s 3ms/step - loss: 0.4723 - accuracy: 0.8003\n",
            "Epoch 11/100\n",
            "6288/6288 [==============================] - 17s 3ms/step - loss: 0.4702 - accuracy: 0.8008\n",
            "Epoch 12/100\n",
            "6288/6288 [==============================] - 18s 3ms/step - loss: 0.4685 - accuracy: 0.8020\n",
            "Epoch 13/100\n",
            "6288/6288 [==============================] - 17s 3ms/step - loss: 0.4668 - accuracy: 0.8030\n",
            "Epoch 14/100\n",
            "6288/6288 [==============================] - 18s 3ms/step - loss: 0.4657 - accuracy: 0.8037\n",
            "Epoch 15/100\n",
            "6288/6288 [==============================] - 18s 3ms/step - loss: 0.4638 - accuracy: 0.8047\n",
            "Epoch 16/100\n",
            "6288/6288 [==============================] - 17s 3ms/step - loss: 0.4620 - accuracy: 0.8048\n",
            "Epoch 17/100\n",
            "1559/6288 [======>.......................] - ETA: 14s - loss: 0.4596 - accuracy: 0.8051"
          ]
        }
      ]
    },
    {
      "cell_type": "code",
      "source": [
        "### Generate a classification report ###\n",
        "y_estimate = model.predict(X_test_scaled, verbose=0)\n",
        "y_estimate = np.argmax(y_estimate, axis=1)\n",
        "print(classification_report(Y_test, y_estimate))"
      ],
      "metadata": {
        "colab": {
          "base_uri": "https://localhost:8080/"
        },
        "id": "OAhhuUhM78kM",
        "outputId": "6079bab5-de7a-4106-d7a3-422e7a3770fe"
      },
      "execution_count": 21,
      "outputs": [
        {
          "output_type": "stream",
          "name": "stdout",
          "text": [
            "              precision    recall  f1-score   support\n",
            "\n",
            "         0.0       0.00      0.00      0.00       0.0\n",
            "         1.0       0.00      0.00      0.00   14477.0\n",
            "         2.0       0.00      0.00      0.00   31276.0\n",
            "         3.0       0.00      0.00      0.00    1252.0\n",
            "         4.0       0.00      0.00      0.00     433.0\n",
            "         5.0       0.00      0.00      0.00    1130.0\n",
            "         6.0       0.00      0.00      0.00     978.0\n",
            "         7.0       0.00      0.00      0.00     755.0\n",
            "\n",
            "    accuracy                           0.00   50301.0\n",
            "   macro avg       0.00      0.00      0.00   50301.0\n",
            "weighted avg       0.00      0.00      0.00   50301.0\n",
            "\n"
          ]
        },
        {
          "output_type": "stream",
          "name": "stderr",
          "text": [
            "/usr/local/lib/python3.10/dist-packages/sklearn/metrics/_classification.py:1344: UndefinedMetricWarning: Precision and F-score are ill-defined and being set to 0.0 in labels with no predicted samples. Use `zero_division` parameter to control this behavior.\n",
            "  _warn_prf(average, modifier, msg_start, len(result))\n",
            "/usr/local/lib/python3.10/dist-packages/sklearn/metrics/_classification.py:1344: UndefinedMetricWarning: Recall and F-score are ill-defined and being set to 0.0 in labels with no true samples. Use `zero_division` parameter to control this behavior.\n",
            "  _warn_prf(average, modifier, msg_start, len(result))\n",
            "/usr/local/lib/python3.10/dist-packages/sklearn/metrics/_classification.py:1344: UndefinedMetricWarning: Precision and F-score are ill-defined and being set to 0.0 in labels with no predicted samples. Use `zero_division` parameter to control this behavior.\n",
            "  _warn_prf(average, modifier, msg_start, len(result))\n",
            "/usr/local/lib/python3.10/dist-packages/sklearn/metrics/_classification.py:1344: UndefinedMetricWarning: Recall and F-score are ill-defined and being set to 0.0 in labels with no true samples. Use `zero_division` parameter to control this behavior.\n",
            "  _warn_prf(average, modifier, msg_start, len(result))\n",
            "/usr/local/lib/python3.10/dist-packages/sklearn/metrics/_classification.py:1344: UndefinedMetricWarning: Precision and F-score are ill-defined and being set to 0.0 in labels with no predicted samples. Use `zero_division` parameter to control this behavior.\n",
            "  _warn_prf(average, modifier, msg_start, len(result))\n",
            "/usr/local/lib/python3.10/dist-packages/sklearn/metrics/_classification.py:1344: UndefinedMetricWarning: Recall and F-score are ill-defined and being set to 0.0 in labels with no true samples. Use `zero_division` parameter to control this behavior.\n",
            "  _warn_prf(average, modifier, msg_start, len(result))\n"
          ]
        }
      ]
    }
  ]
}